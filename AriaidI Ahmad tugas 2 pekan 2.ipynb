{
 "cells": [
  {
   "cell_type": "code",
   "execution_count": 58,
   "metadata": {
    "colab": {},
    "colab_type": "code",
    "id": "GyakVoXhBGrv",
    "outputId": "39b8ca38-73c2-4f96-a16b-9898575919b9"
   },
   "outputs": [
    {
     "name": "stdout",
     "output_type": "stream",
     "text": [
      "    siswa_id pelajaran  nilai jenis-kelamin kelas\n",
      "0          1    Fisika     15     perempuan   12D\n",
      "1          2   Biologi     33     laki-laki   12A\n",
      "2          3     Kimia     62     perempuan   12C\n",
      "3          4   Ekonomi     86     perempuan   12B\n",
      "4          5     Kimia     63     laki-laki   12A\n",
      "5          6   Biologi      2     laki-laki   12C\n",
      "6          7   Ekonomi     82     perempuan   12D\n",
      "7          8    Fisika     71     perempuan   12C\n",
      "8          9   Geologi     21     perempuan   12A\n",
      "9         10   Ekonomi     73     laki-laki   12D\n",
      "10        11   Biologi     69     laki-laki   12A\n",
      "11        12   Ekonomi     15     perempuan   12A\n",
      "12        13    Fisika     20     laki-laki   12D\n",
      "13        14   Geologi     66     perempuan   12D\n",
      "14        15     Kimia     76     laki-laki   12A\n",
      "15        16     Kimia     14     perempuan   12B\n",
      "16        17    Fisika     75     laki-laki   12D\n",
      "17        18     Kimia      9     laki-laki   12A\n",
      "18        19    Fisika     33     laki-laki   12D\n",
      "19        20     Kimia     43     perempuan   12A\n"
     ]
    }
   ],
   "source": [
    "# Persiapan membuat data\n",
    "import pandas as pd\n",
    "import random\n",
    "\n",
    "pelajaran = ['Matematika', 'Fisika', 'Biologi', 'Kimia', 'Geologi', 'Ekonomi']\n",
    "kelas = ['12A', '12B', '12C', '12D']\n",
    "\n",
    "hasil_nilai = {\n",
    "    'siswa_id' : range(1, 21),\n",
    "    'pelajaran' : [random.choice(pelajaran) for i in range(20)],\n",
    "    'nilai' : [random.choice(range(0, 100)) for i in range(20)],\n",
    "    'jenis-kelamin' : [random.choice(['laki-laki', 'perempuan']) for i in range(20)],\n",
    "    'kelas' : [random.choice(kelas) for i in range(20)]\n",
    "}\n",
    "\n",
    "df = pd.DataFrame(hasil_nilai)\n",
    "df.head()\n",
    "\n",
    "print(df)"
   ]
  },
  {
   "cell_type": "markdown",
   "metadata": {
    "colab_type": "text",
    "id": "aNoScqypBGr5"
   },
   "source": [
    "<h2>Soal 1: Indexing</h2>\n",
    "\n",
    "1. Lakukan indexing terhadap dataframe untuk mengakses column nilai dan kelas saja\n",
    "2. Lakukan indexing terhadap dataframe untuk mengakses row 5 sampai 10 beserta column pelajaran dan nilai"
   ]
  },
  {
   "cell_type": "code",
   "execution_count": 34,
   "metadata": {
    "colab": {},
    "colab_type": "code",
    "id": "rKmgvnS2BGr6"
   },
   "outputs": [
    {
     "name": "stdout",
     "output_type": "stream",
     "text": [
      "   kelas  nilai\n",
      "0    12B     81\n",
      "1    12C     23\n",
      "2    12B     33\n",
      "3    12B     80\n",
      "4    12A     55\n",
      "5    12A     25\n",
      "6    12C     46\n",
      "7    12C     67\n",
      "8    12A     68\n",
      "9    12A     14\n",
      "10   12D     70\n",
      "11   12B      7\n",
      "12   12A     81\n",
      "13   12B     16\n",
      "14   12D     90\n",
      "15   12C     97\n",
      "16   12C     32\n",
      "17   12B     77\n",
      "18   12A      0\n",
      "19   12A     95\n",
      "   pelajaran  nilai\n",
      "5    Biologi     25\n",
      "6    Ekonomi     46\n",
      "7     Fisika     67\n",
      "8      Kimia     68\n",
      "9      Kimia     14\n",
      "10   Biologi     70\n"
     ]
    }
   ],
   "source": [
    "# code here\n",
    "nilaiKelas = df[['kelas','nilai']]\n",
    "print(nilaiKelas)\n",
    "\n",
    "# lima10 = df[5:11]\n",
    "pelajaranNilai = df.loc[5:10,['pelajaran','nilai']]\n",
    "\n",
    "print(pelajaranNilai)"
   ]
  },
  {
   "cell_type": "markdown",
   "metadata": {
    "colab_type": "text",
    "id": "F55zUl5GBGr_"
   },
   "source": [
    "<h2>Soal 2: Filter DataFrame Dengan Boolean</h2>\n",
    "\n",
    "1. Tampilkan semua data siswa pada mata pelajaran Ekonomi dan Fisika\n",
    "2. Tampilkan semua data siswa yang mempunyai nilai lebih dari 50 di mata pelajaran Kimia \n",
    "3. Tampilkan semua data yang mempunyai nilai lebih dari 70, berjnis kelamin perempuan dan di kelas 12C"
   ]
  },
  {
   "cell_type": "code",
   "execution_count": 59,
   "metadata": {
    "colab": {},
    "colab_type": "code",
    "id": "eB5oSf_KBGsA"
   },
   "outputs": [
    {
     "name": "stdout",
     "output_type": "stream",
     "text": [
      "Empty DataFrame\n",
      "Columns: [siswa_id, pelajaran, nilai, jenis-kelamin, kelas]\n",
      "Index: []\n",
      "    siswa_id pelajaran  nilai jenis-kelamin kelas\n",
      "2          3     Kimia     62     perempuan   12C\n",
      "4          5     Kimia     63     laki-laki   12A\n",
      "14        15     Kimia     76     laki-laki   12A\n"
     ]
    }
   ],
   "source": [
    "# code here\n",
    "ekonomi = df.pelajaran == 'Ekonomi'\n",
    "fisika = df.pelajaran == 'Fisika'\n",
    "\n",
    "print(df[(ekonomi) & (fisika)])\n",
    "\n",
    "nilai50 = df.nilai > 50\n",
    "kimia = df.pelajaran == 'Kimia'\n",
    "\n",
    "print(df[(nilai50) & (kimia)])\n",
    "\n",
    "\n",
    "# print(df.loc[(ekonomi) & (fisika)])\n"
   ]
  },
  {
   "cell_type": "markdown",
   "metadata": {
    "colab_type": "text",
    "id": "6Od6R3H1BGsE"
   },
   "source": [
    "<h2>Soal 3: Data Transformation</h2>\n",
    "\n",
    "lakukan data transformasi terhadap column 'nilai' dengan fungsi transformasi, berikut rumus dari normalisasi\n",
    "\n",
    "![alt text](https://drive.google.com/uc?id=1wed-EbRSTA0JP1ceDp6lcKBqH2yJ4aa3)"
   ]
  },
  {
   "cell_type": "code",
   "execution_count": 61,
   "metadata": {
    "colab": {},
    "colab_type": "code",
    "id": "qeV_iH8nBGsF"
   },
   "outputs": [
    {
     "name": "stdout",
     "output_type": "stream",
     "text": [
      "       nilai\n",
      "0   0.154762\n",
      "1   0.369048\n",
      "2   0.714286\n",
      "3   1.000000\n",
      "4   0.726190\n",
      "5   0.000000\n",
      "6   0.952381\n",
      "7   0.821429\n",
      "8   0.226190\n",
      "9   0.845238\n",
      "10  0.797619\n",
      "11  0.154762\n",
      "12  0.214286\n",
      "13  0.761905\n",
      "14  0.880952\n",
      "15  0.142857\n",
      "16  0.869048\n",
      "17  0.083333\n",
      "18  0.369048\n",
      "19  0.488095\n"
     ]
    }
   ],
   "source": [
    "# code here\n",
    "def xnormalized (x):\n",
    "    normalized = (x- x.min())/(x.max() - x.min())\n",
    "    return normalized\n",
    "print(df[['nilai']].apply(xnormalized))\n"
   ]
  },
  {
   "cell_type": "code",
   "execution_count": null,
   "metadata": {},
   "outputs": [],
   "source": []
  }
 ],
 "metadata": {
  "colab": {
   "name": "Tugas Hari 2 Pekan 2.ipynb",
   "provenance": []
  },
  "kernelspec": {
   "display_name": "Python 3",
   "language": "python",
   "name": "python3"
  },
  "language_info": {
   "codemirror_mode": {
    "name": "ipython",
    "version": 3
   },
   "file_extension": ".py",
   "mimetype": "text/x-python",
   "name": "python",
   "nbconvert_exporter": "python",
   "pygments_lexer": "ipython3",
   "version": "3.8.3"
  }
 },
 "nbformat": 4,
 "nbformat_minor": 1
}
