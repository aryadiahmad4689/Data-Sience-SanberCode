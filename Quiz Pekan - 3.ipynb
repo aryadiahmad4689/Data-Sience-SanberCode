{
 "cells": [
  {
   "cell_type": "markdown",
   "metadata": {
    "colab_type": "text",
    "id": "Mk6qjezc8tPu"
   },
   "source": [
    "# Quiz Pekan - 3\n",
    "\n",
    "Dataset-dataset berikut ini menunjukkan persentase fat, protein, dan food yang dikonsumsi dari setiap jenis makanan yang terdaftar. Beberapa bagian akhir dataset juga mencakup persentase obesitas(Obesity), kurang gizi(Undernourished), dan kasus COVID-19 yang Terkonfirmasi(Confirmed)/Kematian(Deaths)/Sembuh(Recovered)/Aktif(Active).\n",
    "\n",
    "(Catatan: Semua data memiliki unit '%' (persen) kecuali Populasi, unit persen tersebut dihitung berdasarkan jumlah populasi).\n",
    "\n",
    "Link Download:\n",
    "\n",
    "[Food_Supply_Quantity_kg_Data.csv](https://drive.google.com/uc?export=download&id=1op0PFMMNglFtw8GVOF6HmomyAvgoY4jm)\n",
    "\n",
    "[Protein_Supply_Quantity_Data.csv](https://drive.google.com/uc?export=download&id=19vFZ1clhjY0vyC8onnlYE63w1QpmB4oj)\n",
    "\n",
    "[Fat_Supply_Quantity_Data.csv](https://drive.google.com/uc?export=download&id=1W1xIj5dGe9aLcg9cG6HVjlpdSqdlbue2)\n",
    "\n",
    "[Supply_Food_Data_Descriptions.csv](https://drive.google.com/uc?export=download&id=1hG4_-D0doXkTU1e7sqZabpRXgCkHt5Hr)"
   ]
  },
  {
   "cell_type": "code",
   "execution_count": 163,
   "metadata": {
    "colab": {},
    "colab_type": "code",
    "id": "NGNbQVKm4vgv"
   },
   "outputs": [],
   "source": [
    "import numpy as np\n",
    "import pandas as pd\n",
    "import matplotlib.pyplot as plt\n",
    "\n",
    "# Import Semua Data\n",
    "df_food = pd.read_csv('Food_Supply_Quantity_kg_Data.csv')\n",
    "df_protein = pd.read_csv('Protein_Supply_Quantity_Data.csv')\n",
    "df_fat = pd.read_csv('Fat_Supply_Quantity_Data.csv')\n",
    "df_category = pd.read_csv('Supply_Food_Data_Descriptions.csv')"
   ]
  },
  {
   "cell_type": "markdown",
   "metadata": {
    "colab_type": "text",
    "id": "Aj2MY336-ylZ"
   },
   "source": [
    "---"
   ]
  },
  {
   "cell_type": "markdown",
   "metadata": {
    "colab_type": "text",
    "id": "xWD8Zh-r_TxA"
   },
   "source": [
    "# Soal 1: Memisahkan kolom pada supply dataset antara kategori makanan dan bukan makanan"
   ]
  },
  {
   "cell_type": "markdown",
   "metadata": {
    "colab_type": "text",
    "id": "s4OM-RnaAQKl"
   },
   "source": [
    "Teman-teman diminta untuk menampilkan list kolom-kolom pada supply DataFrame dengan ketentuan sebagai berikut:\n",
    "\n",
    "*   all columns: list yang berisikan semua kolom pada supply DataFrame\n",
    "*   supply columns: list yang berisikan semua kolom pada supply DataFrame berdasarkan kolom 'Categories' pada DataFrame df_category\n",
    "*   non-supply columns: list yang berisikan semua kolom non-supply pada supply DataFrame\n"
   ]
  },
  {
   "cell_type": "code",
   "execution_count": 78,
   "metadata": {
    "colab": {},
    "colab_type": "code",
    "id": "8aHiCSZh5q1g"
   },
   "outputs": [
    {
     "name": "stdout",
     "output_type": "stream",
     "text": [
      "All Columns : ['Country', 'Alcoholic Beverages', 'Animal fats', 'Animal Products', 'Aquatic Products, Other', 'Cereals - Excluding Beer', 'Eggs', 'Fish, Seafood', 'Fruits - Excluding Wine', 'Meat', 'Milk - Excluding Butter', 'Miscellaneous', 'Offals', 'Oilcrops', 'Pulses', 'Spices', 'Starchy Roots', 'Stimulants', 'Sugar & Sweeteners', 'Sugar Crops', 'Treenuts', 'Vegetable Oils', 'Vegetables', 'Vegetal Products', 'Obesity', 'Undernourished', 'Confirmed', 'Deaths', 'Recovered', 'Active', 'Population', 'Unit (all except Population)'] \n",
      "\n",
      "\n",
      "Suply Columns : ['Alcoholic Beverages', 'Animal fats', 'Animal Products', 'Aquatic Products, Other', 'Cereals - Excluding Beer', 'Eggs', 'Fish, Seafood', 'Fruits - Excluding Wine', 'Meat', 'Milk - Excluding Butter', 'Miscellaneous', 'Offals', 'Oilcrops', 'Pulses', 'Spices', 'Starchy Roots', 'Stimulants', 'Sugar & Sweeteners', 'Sugar Crops', 'Treenuts', 'Vegetable Oils', 'Vegetables', 'Vegetal Products'] \n",
      "\n",
      "\n",
      "Non Supply columns : ['Country', 'Obesity', 'Undernourished', 'Confirmed', 'Deaths', 'Recovered', 'Active', 'Population', 'Unit (all except Population)'] \n",
      "\n",
      "\n"
     ]
    }
   ],
   "source": [
    "# Example\n",
    "all_columns = df_food.columns.tolist()\n",
    "print(f'All Columns : {all_columns} \\n\\n')\n",
    "\n",
    "supply_columns = all_columns[1:24] \n",
    "print(f'Suply Columns : {supply_columns} \\n\\n')\n",
    "country = all_columns[0]\n",
    "c2 =list(all_columns[24:])\n",
    "non_supply_columns = df_food[['Country']+c2].columns.tolist()\n",
    "print(f'Non Supply columns : {non_supply_columns} \\n\\n')\n",
    "\n",
    "\n",
    "# Code here"
   ]
  },
  {
   "cell_type": "markdown",
   "metadata": {
    "colab_type": "text",
    "id": "A84xqzyoC0jU"
   },
   "source": [
    "Expected Output:\n",
    "\n",
    "![Expected Output:](https://drive.google.com/uc?id=1ItjI9ALd2I8tgJ2i8pa_UjdFfKS35mNu)"
   ]
  },
  {
   "cell_type": "markdown",
   "metadata": {
    "colab_type": "text",
    "id": "gnRBLXPZC3PD"
   },
   "source": [
    "---"
   ]
  },
  {
   "cell_type": "markdown",
   "metadata": {
    "colab_type": "text",
    "id": "zVjfRh2xDC8g"
   },
   "source": [
    "# Soal 2: Menggabungkan DataFrame\n",
    "\n"
   ]
  },
  {
   "cell_type": "markdown",
   "metadata": {
    "colab_type": "text",
    "id": "-xRZSuKBDYeQ"
   },
   "source": [
    "Gabungkan semua supply DataFrame dengan ketentuan tidak ada kolom dengan nama yang sama. Untuk kolom-kolom non-supply seperti tersebut di atas, memiliki nilai yang sama untuk setiap DataFrame, sehingga cukup ambil dari salah satu DataFrame. Sedangkan untuk kolom-kolom supply seperti tersebut di atas, setiap DataFrame (df_food, df_protein, df_fat) memiliki nilai yang berbeda, sehingga teman-teman perlu menambahkan suffix berdasarkan jenis supply DataFrame-nya, misalkan untuk kolom 'eggs' teman teman harus menambahkan suffix sehingga DataFrame gabungan memiliki kolom 'eggs_food', 'eggs_protein', dan 'eggs_fat'. Untuk mendapatkan gambaran lebih jelas, silahkan lihat pada expected output."
   ]
  },
  {
   "cell_type": "markdown",
   "metadata": {
    "colab_type": "text",
    "id": "UWBJLohAKODF"
   },
   "source": [
    "List kolom-kolom DataFrame hasil gabungan adalah sebagai berikut:\n",
    "\n",
    "\n",
    "```\n",
    " ['Country', 'Alcoholic Beverages_food', 'Animal fats_food',\n",
    "  'Animal Products_food', 'Aquatic Products, Other_food',\n",
    "  'Cereals - Excluding Beer_food', 'Eggs_food', 'Fish, Seafood_food',\n",
    "  'Fruits - Excluding Wine_food', 'Meat_food',\n",
    "  'Milk - Excluding Butter_food', 'Miscellaneous_food', 'Offals_food',\n",
    "  'Oilcrops_food', 'Pulses_food', 'Spices_food', 'Starchy Roots_food',\n",
    "  'Stimulants_food', 'Sugar & Sweeteners_food', 'Sugar Crops_food',\n",
    "  'Treenuts_food', 'Vegetable Oils_food', 'Vegetables_food',\n",
    "  'Vegetal Products_food', 'Alcoholic Beverages_protein',\n",
    "  'Animal fats_protein', 'Animal Products_protein',\n",
    "  'Aquatic Products, Other_protein', 'Cereals - Excluding Beer_protein',\n",
    "  'Eggs_protein', 'Fish, Seafood_protein',\n",
    "  'Fruits - Excluding Wine_protein', 'Meat_protein',\n",
    "  'Milk - Excluding Butter_protein', 'Miscellaneous_protein',\n",
    "  'Offals_protein', 'Oilcrops_protein', 'Pulses_protein',\n",
    "  'Spices_protein', 'Starchy Roots_protein', 'Stimulants_protein',\n",
    "  'Sugar & Sweeteners_protein', 'Sugar Crops_protein', 'Treenuts_protein',\n",
    "  'Vegetable Oils_protein', 'Vegetables_protein',\n",
    "  'Vegetal Products_protein', 'Alcoholic Beverages_fat',\n",
    "  'Animal fats_fat', 'Animal Products_fat', 'Aquatic Products, Other_fat',\n",
    "  'Cereals - Excluding Beer_fat', 'Eggs_fat', 'Fish, Seafood_fat',\n",
    "  'Fruits - Excluding Wine_fat', 'Meat_fat',\n",
    "  'Milk - Excluding Butter_fat', 'Miscellaneous_fat', 'Offals_fat',\n",
    "  'Oilcrops_fat', 'Pulses_fat', 'Spices_fat', 'Starchy Roots_fat',\n",
    "  'Stimulants_fat', 'Sugar & Sweeteners_fat', 'Sugar Crops_fat',\n",
    "  'Treenuts_fat', 'Vegetable Oils_fat', 'Vegetables_fat',\n",
    "  'Vegetal Products_fat', 'Obesity', 'Undernourished', 'Confirmed',\n",
    "  'Deaths', 'Recovered', 'Active', 'Population',\n",
    "  'Unit (all except Population)']\n",
    "```"
   ]
  },
  {
   "cell_type": "code",
   "execution_count": 128,
   "metadata": {
    "colab": {},
    "colab_type": "code",
    "id": "v8_WdQrCFvbY"
   },
   "outputs": [],
   "source": [
    "# Hint\n",
    "\n",
    "\n",
    "df_non_supply_new = df_food[non_supply_columns]\n",
    "df_food_new = df_food[['Country']+supply_columns]\n",
    "df_protein_new = df_protein[['Country']+supply_columns]\n",
    "df_fat_new = df_fat[['Country']+supply_columns]\n",
    "# display(df_food_new)"
   ]
  },
  {
   "cell_type": "code",
   "execution_count": 148,
   "metadata": {
    "colab": {},
    "colab_type": "code",
    "id": "jtV0pJZGFwne"
   },
   "outputs": [
    {
     "data": {
      "text/html": [
       "<div>\n",
       "<style scoped>\n",
       "    .dataframe tbody tr th:only-of-type {\n",
       "        vertical-align: middle;\n",
       "    }\n",
       "\n",
       "    .dataframe tbody tr th {\n",
       "        vertical-align: top;\n",
       "    }\n",
       "\n",
       "    .dataframe thead th {\n",
       "        text-align: right;\n",
       "    }\n",
       "</style>\n",
       "<table border=\"1\" class=\"dataframe\">\n",
       "  <thead>\n",
       "    <tr style=\"text-align: right;\">\n",
       "      <th></th>\n",
       "      <th>Country</th>\n",
       "      <th>Alcoholic Beverages</th>\n",
       "      <th>Animal fats</th>\n",
       "      <th>Animal Products</th>\n",
       "      <th>Aquatic Products, Other</th>\n",
       "      <th>Cereals - Excluding Beer</th>\n",
       "      <th>Eggs</th>\n",
       "      <th>Fish, Seafood</th>\n",
       "      <th>Fruits - Excluding Wine</th>\n",
       "      <th>Meat</th>\n",
       "      <th>...</th>\n",
       "      <th>Pulses_y</th>\n",
       "      <th>Spices_y</th>\n",
       "      <th>Starchy Roots_y</th>\n",
       "      <th>Stimulants_y</th>\n",
       "      <th>Sugar &amp; Sweeteners_y</th>\n",
       "      <th>Sugar Crops_y</th>\n",
       "      <th>Treenuts_y</th>\n",
       "      <th>Vegetable Oils_y</th>\n",
       "      <th>Vegetables_y</th>\n",
       "      <th>Vegetal Products_y</th>\n",
       "    </tr>\n",
       "  </thead>\n",
       "  <tbody>\n",
       "    <tr>\n",
       "      <th>0</th>\n",
       "      <td>Afghanistan</td>\n",
       "      <td>0.0000</td>\n",
       "      <td>6.2224</td>\n",
       "      <td>21.6397</td>\n",
       "      <td>0.0</td>\n",
       "      <td>8.0353</td>\n",
       "      <td>0.6859</td>\n",
       "      <td>0.0327</td>\n",
       "      <td>0.4246</td>\n",
       "      <td>6.1244</td>\n",
       "      <td>...</td>\n",
       "      <td>1.2479</td>\n",
       "      <td>0.1664</td>\n",
       "      <td>0.1941</td>\n",
       "      <td>0.5546</td>\n",
       "      <td>0.0000</td>\n",
       "      <td>0.0000</td>\n",
       "      <td>0.1387</td>\n",
       "      <td>0.0000</td>\n",
       "      <td>1.1370</td>\n",
       "      <td>40.2477</td>\n",
       "    </tr>\n",
       "    <tr>\n",
       "      <th>1</th>\n",
       "      <td>Albania</td>\n",
       "      <td>0.0000</td>\n",
       "      <td>3.4172</td>\n",
       "      <td>32.0002</td>\n",
       "      <td>0.0</td>\n",
       "      <td>2.6734</td>\n",
       "      <td>1.6448</td>\n",
       "      <td>0.1445</td>\n",
       "      <td>0.6418</td>\n",
       "      <td>8.7428</td>\n",
       "      <td>...</td>\n",
       "      <td>1.4555</td>\n",
       "      <td>0.0000</td>\n",
       "      <td>0.8867</td>\n",
       "      <td>0.2635</td>\n",
       "      <td>0.0042</td>\n",
       "      <td>0.0000</td>\n",
       "      <td>0.2677</td>\n",
       "      <td>0.0084</td>\n",
       "      <td>3.2456</td>\n",
       "      <td>22.2552</td>\n",
       "    </tr>\n",
       "    <tr>\n",
       "      <th>2</th>\n",
       "      <td>Algeria</td>\n",
       "      <td>0.0000</td>\n",
       "      <td>0.8972</td>\n",
       "      <td>14.4175</td>\n",
       "      <td>0.0</td>\n",
       "      <td>4.2035</td>\n",
       "      <td>1.2171</td>\n",
       "      <td>0.2008</td>\n",
       "      <td>0.5772</td>\n",
       "      <td>3.8961</td>\n",
       "      <td>...</td>\n",
       "      <td>2.5509</td>\n",
       "      <td>0.1776</td>\n",
       "      <td>1.4638</td>\n",
       "      <td>0.4628</td>\n",
       "      <td>0.0000</td>\n",
       "      <td>0.0000</td>\n",
       "      <td>0.2745</td>\n",
       "      <td>0.0269</td>\n",
       "      <td>3.1267</td>\n",
       "      <td>36.1694</td>\n",
       "    </tr>\n",
       "    <tr>\n",
       "      <th>3</th>\n",
       "      <td>Angola</td>\n",
       "      <td>0.0000</td>\n",
       "      <td>1.3130</td>\n",
       "      <td>15.3041</td>\n",
       "      <td>0.0</td>\n",
       "      <td>6.5545</td>\n",
       "      <td>0.1539</td>\n",
       "      <td>1.4155</td>\n",
       "      <td>0.3488</td>\n",
       "      <td>11.0268</td>\n",
       "      <td>...</td>\n",
       "      <td>4.0850</td>\n",
       "      <td>0.0000</td>\n",
       "      <td>5.1941</td>\n",
       "      <td>0.1017</td>\n",
       "      <td>0.0092</td>\n",
       "      <td>0.0000</td>\n",
       "      <td>0.0092</td>\n",
       "      <td>0.0092</td>\n",
       "      <td>0.8133</td>\n",
       "      <td>34.7782</td>\n",
       "    </tr>\n",
       "    <tr>\n",
       "      <th>4</th>\n",
       "      <td>Antigua and Barbuda</td>\n",
       "      <td>0.0000</td>\n",
       "      <td>4.6686</td>\n",
       "      <td>27.7033</td>\n",
       "      <td>0.0</td>\n",
       "      <td>3.2153</td>\n",
       "      <td>0.3872</td>\n",
       "      <td>1.5263</td>\n",
       "      <td>1.2177</td>\n",
       "      <td>14.3202</td>\n",
       "      <td>...</td>\n",
       "      <td>0.8841</td>\n",
       "      <td>0.3438</td>\n",
       "      <td>0.4666</td>\n",
       "      <td>0.4113</td>\n",
       "      <td>0.0000</td>\n",
       "      <td>0.0000</td>\n",
       "      <td>0.0737</td>\n",
       "      <td>0.0430</td>\n",
       "      <td>1.6024</td>\n",
       "      <td>16.8161</td>\n",
       "    </tr>\n",
       "    <tr>\n",
       "      <th>...</th>\n",
       "      <td>...</td>\n",
       "      <td>...</td>\n",
       "      <td>...</td>\n",
       "      <td>...</td>\n",
       "      <td>...</td>\n",
       "      <td>...</td>\n",
       "      <td>...</td>\n",
       "      <td>...</td>\n",
       "      <td>...</td>\n",
       "      <td>...</td>\n",
       "      <td>...</td>\n",
       "      <td>...</td>\n",
       "      <td>...</td>\n",
       "      <td>...</td>\n",
       "      <td>...</td>\n",
       "      <td>...</td>\n",
       "      <td>...</td>\n",
       "      <td>...</td>\n",
       "      <td>...</td>\n",
       "      <td>...</td>\n",
       "      <td>...</td>\n",
       "    </tr>\n",
       "    <tr>\n",
       "      <th>165</th>\n",
       "      <td>Venezuela (Bolivarian Republic of)</td>\n",
       "      <td>0.0000</td>\n",
       "      <td>2.2673</td>\n",
       "      <td>16.3261</td>\n",
       "      <td>0.0</td>\n",
       "      <td>2.5449</td>\n",
       "      <td>0.6555</td>\n",
       "      <td>0.5707</td>\n",
       "      <td>0.9640</td>\n",
       "      <td>7.0949</td>\n",
       "      <td>...</td>\n",
       "      <td>1.9369</td>\n",
       "      <td>0.0000</td>\n",
       "      <td>1.1195</td>\n",
       "      <td>0.3287</td>\n",
       "      <td>0.0178</td>\n",
       "      <td>0.0000</td>\n",
       "      <td>0.0000</td>\n",
       "      <td>0.0533</td>\n",
       "      <td>1.0129</td>\n",
       "      <td>27.4545</td>\n",
       "    </tr>\n",
       "    <tr>\n",
       "      <th>166</th>\n",
       "      <td>Vietnam</td>\n",
       "      <td>0.0000</td>\n",
       "      <td>3.8238</td>\n",
       "      <td>33.2484</td>\n",
       "      <td>0.0</td>\n",
       "      <td>3.7155</td>\n",
       "      <td>0.7839</td>\n",
       "      <td>1.1217</td>\n",
       "      <td>0.4079</td>\n",
       "      <td>26.4292</td>\n",
       "      <td>...</td>\n",
       "      <td>0.9387</td>\n",
       "      <td>0.5221</td>\n",
       "      <td>0.2333</td>\n",
       "      <td>0.5444</td>\n",
       "      <td>0.0056</td>\n",
       "      <td>0.0167</td>\n",
       "      <td>0.3277</td>\n",
       "      <td>0.0000</td>\n",
       "      <td>3.7216</td>\n",
       "      <td>29.5617</td>\n",
       "    </tr>\n",
       "    <tr>\n",
       "      <th>167</th>\n",
       "      <td>Yemen</td>\n",
       "      <td>0.0000</td>\n",
       "      <td>2.0131</td>\n",
       "      <td>12.5401</td>\n",
       "      <td>0.0</td>\n",
       "      <td>11.5271</td>\n",
       "      <td>0.5514</td>\n",
       "      <td>0.3847</td>\n",
       "      <td>0.2564</td>\n",
       "      <td>8.0010</td>\n",
       "      <td>...</td>\n",
       "      <td>2.9398</td>\n",
       "      <td>0.0657</td>\n",
       "      <td>0.2066</td>\n",
       "      <td>0.3193</td>\n",
       "      <td>0.0000</td>\n",
       "      <td>0.0000</td>\n",
       "      <td>0.0188</td>\n",
       "      <td>0.0000</td>\n",
       "      <td>0.5448</td>\n",
       "      <td>39.9831</td>\n",
       "    </tr>\n",
       "    <tr>\n",
       "      <th>168</th>\n",
       "      <td>Zambia</td>\n",
       "      <td>0.0783</td>\n",
       "      <td>1.6113</td>\n",
       "      <td>9.6005</td>\n",
       "      <td>0.0</td>\n",
       "      <td>14.3225</td>\n",
       "      <td>0.6266</td>\n",
       "      <td>1.0070</td>\n",
       "      <td>0.1343</td>\n",
       "      <td>4.9010</td>\n",
       "      <td>...</td>\n",
       "      <td>0.6431</td>\n",
       "      <td>0.0846</td>\n",
       "      <td>1.2863</td>\n",
       "      <td>0.0762</td>\n",
       "      <td>0.0000</td>\n",
       "      <td>0.0000</td>\n",
       "      <td>0.0000</td>\n",
       "      <td>0.0000</td>\n",
       "      <td>0.8039</td>\n",
       "      <td>40.1117</td>\n",
       "    </tr>\n",
       "    <tr>\n",
       "      <th>169</th>\n",
       "      <td>Zimbabwe</td>\n",
       "      <td>0.0000</td>\n",
       "      <td>2.9543</td>\n",
       "      <td>10.3796</td>\n",
       "      <td>0.0</td>\n",
       "      <td>9.7922</td>\n",
       "      <td>0.3682</td>\n",
       "      <td>0.2455</td>\n",
       "      <td>0.0614</td>\n",
       "      <td>4.5674</td>\n",
       "      <td>...</td>\n",
       "      <td>1.6987</td>\n",
       "      <td>0.0488</td>\n",
       "      <td>0.5467</td>\n",
       "      <td>0.2636</td>\n",
       "      <td>0.0000</td>\n",
       "      <td>0.0000</td>\n",
       "      <td>0.1367</td>\n",
       "      <td>0.0293</td>\n",
       "      <td>0.5955</td>\n",
       "      <td>38.6508</td>\n",
       "    </tr>\n",
       "  </tbody>\n",
       "</table>\n",
       "<p>170 rows × 78 columns</p>\n",
       "</div>"
      ],
      "text/plain": [
       "                                Country  Alcoholic Beverages  Animal fats  \\\n",
       "0                           Afghanistan               0.0000       6.2224   \n",
       "1                               Albania               0.0000       3.4172   \n",
       "2                               Algeria               0.0000       0.8972   \n",
       "3                                Angola               0.0000       1.3130   \n",
       "4                   Antigua and Barbuda               0.0000       4.6686   \n",
       "..                                  ...                  ...          ...   \n",
       "165  Venezuela (Bolivarian Republic of)               0.0000       2.2673   \n",
       "166                             Vietnam               0.0000       3.8238   \n",
       "167                               Yemen               0.0000       2.0131   \n",
       "168                              Zambia               0.0783       1.6113   \n",
       "169                            Zimbabwe               0.0000       2.9543   \n",
       "\n",
       "     Animal Products  Aquatic Products, Other  Cereals - Excluding Beer  \\\n",
       "0            21.6397                      0.0                    8.0353   \n",
       "1            32.0002                      0.0                    2.6734   \n",
       "2            14.4175                      0.0                    4.2035   \n",
       "3            15.3041                      0.0                    6.5545   \n",
       "4            27.7033                      0.0                    3.2153   \n",
       "..               ...                      ...                       ...   \n",
       "165          16.3261                      0.0                    2.5449   \n",
       "166          33.2484                      0.0                    3.7155   \n",
       "167          12.5401                      0.0                   11.5271   \n",
       "168           9.6005                      0.0                   14.3225   \n",
       "169          10.3796                      0.0                    9.7922   \n",
       "\n",
       "       Eggs  Fish, Seafood  Fruits - Excluding Wine     Meat  ...  Pulses_y  \\\n",
       "0    0.6859         0.0327                   0.4246   6.1244  ...    1.2479   \n",
       "1    1.6448         0.1445                   0.6418   8.7428  ...    1.4555   \n",
       "2    1.2171         0.2008                   0.5772   3.8961  ...    2.5509   \n",
       "3    0.1539         1.4155                   0.3488  11.0268  ...    4.0850   \n",
       "4    0.3872         1.5263                   1.2177  14.3202  ...    0.8841   \n",
       "..      ...            ...                      ...      ...  ...       ...   \n",
       "165  0.6555         0.5707                   0.9640   7.0949  ...    1.9369   \n",
       "166  0.7839         1.1217                   0.4079  26.4292  ...    0.9387   \n",
       "167  0.5514         0.3847                   0.2564   8.0010  ...    2.9398   \n",
       "168  0.6266         1.0070                   0.1343   4.9010  ...    0.6431   \n",
       "169  0.3682         0.2455                   0.0614   4.5674  ...    1.6987   \n",
       "\n",
       "     Spices_y  Starchy Roots_y  Stimulants_y  Sugar & Sweeteners_y  \\\n",
       "0      0.1664           0.1941        0.5546                0.0000   \n",
       "1      0.0000           0.8867        0.2635                0.0042   \n",
       "2      0.1776           1.4638        0.4628                0.0000   \n",
       "3      0.0000           5.1941        0.1017                0.0092   \n",
       "4      0.3438           0.4666        0.4113                0.0000   \n",
       "..        ...              ...           ...                   ...   \n",
       "165    0.0000           1.1195        0.3287                0.0178   \n",
       "166    0.5221           0.2333        0.5444                0.0056   \n",
       "167    0.0657           0.2066        0.3193                0.0000   \n",
       "168    0.0846           1.2863        0.0762                0.0000   \n",
       "169    0.0488           0.5467        0.2636                0.0000   \n",
       "\n",
       "     Sugar Crops_y  Treenuts_y  Vegetable Oils_y  Vegetables_y  \\\n",
       "0           0.0000      0.1387            0.0000        1.1370   \n",
       "1           0.0000      0.2677            0.0084        3.2456   \n",
       "2           0.0000      0.2745            0.0269        3.1267   \n",
       "3           0.0000      0.0092            0.0092        0.8133   \n",
       "4           0.0000      0.0737            0.0430        1.6024   \n",
       "..             ...         ...               ...           ...   \n",
       "165         0.0000      0.0000            0.0533        1.0129   \n",
       "166         0.0167      0.3277            0.0000        3.7216   \n",
       "167         0.0000      0.0188            0.0000        0.5448   \n",
       "168         0.0000      0.0000            0.0000        0.8039   \n",
       "169         0.0000      0.1367            0.0293        0.5955   \n",
       "\n",
       "     Vegetal Products_y  \n",
       "0               40.2477  \n",
       "1               22.2552  \n",
       "2               36.1694  \n",
       "3               34.7782  \n",
       "4               16.8161  \n",
       "..                  ...  \n",
       "165             27.4545  \n",
       "166             29.5617  \n",
       "167             39.9831  \n",
       "168             40.1117  \n",
       "169             38.6508  \n",
       "\n",
       "[170 rows x 78 columns]"
      ]
     },
     "execution_count": 148,
     "metadata": {},
     "output_type": "execute_result"
    }
   ],
   "source": [
    "# Selanjutnya gabungkan dataset pada hint di atas dengan menambahkan suffix berbeda untuk setiap supply dataset menggunakan pd.merge\n",
    "# Code here\n",
    "\n",
    "gb = pd.merge(df_fat_new, df_non_supply_new, on='Country', how='outer')\n",
    "c= pd.merge(df_food_new, df_protein_new, on='Country', how='outer')\n",
    "df =pd.merge(gb, c, on='Country', how='outer')\n",
    "\n",
    "df"
   ]
  },
  {
   "cell_type": "markdown",
   "metadata": {
    "colab_type": "text",
    "id": "5xLsdo-1vmk3"
   },
   "source": [
    "Expected output (kolom tidak semua ditampilkan):\n",
    "![Expected Output:](https://drive.google.com/uc?id=1_thZs6C82RhDFqWo5yGuZV_OWhgvqsnu)"
   ]
  },
  {
   "cell_type": "markdown",
   "metadata": {
    "colab_type": "text",
    "id": "8eRlFcl7IY-L"
   },
   "source": [
    "---"
   ]
  },
  {
   "cell_type": "markdown",
   "metadata": {
    "colab_type": "text",
    "id": "1O9_Cu_gIaxd"
   },
   "source": [
    "# Soal 3: Sorting dan Filtering"
   ]
  },
  {
   "cell_type": "markdown",
   "metadata": {
    "colab_type": "text",
    "id": "iIPsCyFSIh27"
   },
   "source": [
    "Dari DataFrame hasil penggabungan pada Soal 2 (atau gunakan salah satu supply DataFrame karena kolom nilai non-supply memiliki nilai yang sama), kemudian urutkan data (sort) berdasarkan kolom kematian ('Deaths') dari yang terbesar. Setelah itu lakukan perintah berikut:\n",
    "\n",
    "- Print data hasil sorting\n",
    "- Urutan ke berapakah Indonesia berdasarkan tingkat kematian akibat COVID-19 setelah diurutkan dari yang terbesar? Gunakan code mendapatkan nilainya! \n",
    "- Berapa persen dari terkonfirmasi jumlah kematian akibat COVID-19 di Indonesia? Hitung jumlah orang yang meninggal! Gunakan code mendapatkan nilainya! #hint: jumlah orang yang meninggal = populasi * kematian --> jangan lupa ada yang masih dalam persen\n"
   ]
  },
  {
   "cell_type": "code",
   "execution_count": 156,
   "metadata": {
    "colab": {},
    "colab_type": "code",
    "id": "n1yZCZ4bOo6m"
   },
   "outputs": [
    {
     "ename": "TypeError",
     "evalue": "sort_values() got an unexpected keyword argument 'by'",
     "output_type": "error",
     "traceback": [
      "\u001b[1;31m---------------------------------------------------------------------------\u001b[0m",
      "\u001b[1;31mTypeError\u001b[0m                                 Traceback (most recent call last)",
      "\u001b[1;32m<ipython-input-156-324a1359a9fd>\u001b[0m in \u001b[0;36m<module>\u001b[1;34m\u001b[0m\n\u001b[0;32m      1\u001b[0m \u001b[1;31m# Urutkan (sorting) dan print hasil sorting\u001b[0m\u001b[1;33m\u001b[0m\u001b[1;33m\u001b[0m\u001b[1;33m\u001b[0m\u001b[0m\n\u001b[0;32m      2\u001b[0m \u001b[1;31m# Code here\u001b[0m\u001b[1;33m\u001b[0m\u001b[1;33m\u001b[0m\u001b[1;33m\u001b[0m\u001b[0m\n\u001b[1;32m----> 3\u001b[1;33m \u001b[0mdf\u001b[0m \u001b[1;33m=\u001b[0m \u001b[0mdf\u001b[0m\u001b[1;33m.\u001b[0m\u001b[0msort_values\u001b[0m\u001b[1;33m(\u001b[0m\u001b[0mby\u001b[0m\u001b[1;33m=\u001b[0m\u001b[1;33m[\u001b[0m\u001b[1;34m'Deaths'\u001b[0m\u001b[1;33m]\u001b[0m\u001b[1;33m)\u001b[0m\u001b[1;33m\u001b[0m\u001b[1;33m\u001b[0m\u001b[0m\n\u001b[0m\u001b[0;32m      4\u001b[0m \u001b[0mdf\u001b[0m\u001b[1;33m\u001b[0m\u001b[1;33m\u001b[0m\u001b[0m\n",
      "\u001b[1;31mTypeError\u001b[0m: sort_values() got an unexpected keyword argument 'by'"
     ]
    }
   ],
   "source": [
    "# Urutkan (sorting) dan print hasil sorting\n",
    "# Code here\n",
    "df = df.sort_values(by=['Deaths'])\n",
    "df"
   ]
  },
  {
   "cell_type": "code",
   "execution_count": 150,
   "metadata": {
    "colab": {},
    "colab_type": "code",
    "id": "FnohMVQwP8Og"
   },
   "outputs": [
    {
     "data": {
      "text/plain": [
       "106    False\n",
       "130    False\n",
       "129    False\n",
       "128    False\n",
       "150    False\n",
       "       ...  \n",
       "109    False\n",
       "131    False\n",
       "139    False\n",
       "155    False\n",
       "164    False\n",
       "Name: Country, Length: 170, dtype: bool"
      ]
     },
     "execution_count": 150,
     "metadata": {},
     "output_type": "execute_result"
    }
   ],
   "source": [
    "# Urutan ke berapakah Indonesia\n",
    "# Code here\n",
    "df = df['Country'] == 'Indonesia'\n",
    "df"
   ]
  },
  {
   "cell_type": "code",
   "execution_count": null,
   "metadata": {
    "colab": {},
    "colab_type": "code",
    "id": "OAzky41S6eAm"
   },
   "outputs": [],
   "source": [
    "# Berapa persen jumlah kematian di Indonesia? Berapa Jumlahnya?\n",
    "# Code here\n",
    "meninggal_persen = \n",
    "meninggal = \n",
    "\n",
    "print(f'Jumlah yang meninggal di Indonesia ada {round(meninggal_persen, 10)}% dari jumlah populasi.') # 10 digit\n",
    "print(f'Jumlah yang meninggal di Indonesia ada {round(meninggal)} orang.')"
   ]
  },
  {
   "cell_type": "markdown",
   "metadata": {
    "colab_type": "text",
    "id": "Ur4P17eNVIDU"
   },
   "source": [
    "---"
   ]
  },
  {
   "cell_type": "markdown",
   "metadata": {
    "colab_type": "text",
    "id": "zOvEqSmuUsXy"
   },
   "source": [
    "# Soal 4: Binning, Grouping, dan Aggregating data"
   ]
  },
  {
   "cell_type": "markdown",
   "metadata": {
    "colab_type": "text",
    "id": "mLxskYLCTYFT"
   },
   "source": [
    "Lakukan binning pada kolom terkonfirmasi (Confirmed) COVID-19 dari DataFrame df_fat menjadi 5 bagian (q=5). Teman-teman dapat menggunakan fungsi qcut untuk melakukan bininng ini. Masukan data hasil binning tersebut menjadi kolom baru pada DataFrame df_fat. Beri nama kolom tersebut dengan 'Confirmed Category'. Berikan label 'Sangat Tidak Banyak', 'Tidak Banyak', 'Sedang', 'Cukup Banyak', 'Sangat Banyak'.\n",
    "\n",
    "Baca dokumentasi berikut untuk fungsi qcut : https://pandas.pydata.org/pandas-docs/stable/reference/api/pandas.qcut.html\n",
    "\n",
    "Kemudian lakukan perintah-perintah berikut:\n",
    "- Buat DataFrame baru yang berisi data grouping berdasarkan kolom hasil bininng atau kolom 'Confirmed Category'. \n",
    "- Lakukan grouping hanya pada kolom 'Obesity', 'Meat', 'Fruits - Excluding Wine', 'Fish, Seafood', 'Animal Products', 'Vegetal Products' saja.\n",
    "- Kemudian aggregate dengan fungsi mean. (df_baru = df_fat.groupby(...).mean())\n",
    "- Save DataFrame hasil binning, grouping, dan aggregating ke dalam file csv."
   ]
  },
  {
   "cell_type": "code",
   "execution_count": 168,
   "metadata": {
    "colab": {},
    "colab_type": "code",
    "id": "l8o8Gu2If9N6"
   },
   "outputs": [],
   "source": [
    "# Lakukan binning pada kolom terkonfirmasi untuk DataFrame df_fat\n",
    "labels = ['Sangat Tidak Banyak', 'Tidak Banyak', 'Sedang', 'Cukup Banyak', 'Sangat Banyak']\n",
    "# df.groupby({})\n",
    "# Code here\n",
    "df_fat['Confirmed Category'] = pd.qcut(df_fat['Confirmed'], 5, labels=labels)"
   ]
  },
  {
   "cell_type": "code",
   "execution_count": 169,
   "metadata": {
    "colab": {},
    "colab_type": "code",
    "id": "wH_Twtg9gLHZ"
   },
   "outputs": [
    {
     "data": {
      "text/html": [
       "<div>\n",
       "<style scoped>\n",
       "    .dataframe tbody tr th:only-of-type {\n",
       "        vertical-align: middle;\n",
       "    }\n",
       "\n",
       "    .dataframe tbody tr th {\n",
       "        vertical-align: top;\n",
       "    }\n",
       "\n",
       "    .dataframe thead th {\n",
       "        text-align: right;\n",
       "    }\n",
       "</style>\n",
       "<table border=\"1\" class=\"dataframe\">\n",
       "  <thead>\n",
       "    <tr style=\"text-align: right;\">\n",
       "      <th></th>\n",
       "      <th>Obesity</th>\n",
       "      <th>Meat</th>\n",
       "      <th>Fruits - Excluding Wine</th>\n",
       "      <th>Fish, Seafood</th>\n",
       "      <th>Animal Products</th>\n",
       "      <th>Vegetal Products</th>\n",
       "    </tr>\n",
       "    <tr>\n",
       "      <th>Confirmed Category</th>\n",
       "      <th></th>\n",
       "      <th></th>\n",
       "      <th></th>\n",
       "      <th></th>\n",
       "      <th></th>\n",
       "      <th></th>\n",
       "    </tr>\n",
       "  </thead>\n",
       "  <tbody>\n",
       "    <tr>\n",
       "      <th>Sangat Tidak Banyak</th>\n",
       "      <td>9.746875</td>\n",
       "      <td>8.945094</td>\n",
       "      <td>0.654076</td>\n",
       "      <td>0.898570</td>\n",
       "      <td>15.980406</td>\n",
       "      <td>34.019118</td>\n",
       "    </tr>\n",
       "    <tr>\n",
       "      <th>Tidak Banyak</th>\n",
       "      <td>19.378125</td>\n",
       "      <td>9.567672</td>\n",
       "      <td>0.552212</td>\n",
       "      <td>0.868281</td>\n",
       "      <td>20.006928</td>\n",
       "      <td>29.993700</td>\n",
       "    </tr>\n",
       "    <tr>\n",
       "      <th>Sedang</th>\n",
       "      <td>17.009375</td>\n",
       "      <td>8.294041</td>\n",
       "      <td>0.504541</td>\n",
       "      <td>0.773247</td>\n",
       "      <td>19.504572</td>\n",
       "      <td>30.496775</td>\n",
       "    </tr>\n",
       "    <tr>\n",
       "      <th>Cukup Banyak</th>\n",
       "      <td>22.228125</td>\n",
       "      <td>10.264081</td>\n",
       "      <td>0.488122</td>\n",
       "      <td>0.546644</td>\n",
       "      <td>24.330928</td>\n",
       "      <td>25.668950</td>\n",
       "    </tr>\n",
       "    <tr>\n",
       "      <th>Sangat Banyak</th>\n",
       "      <td>24.100000</td>\n",
       "      <td>9.777675</td>\n",
       "      <td>0.551213</td>\n",
       "      <td>0.946981</td>\n",
       "      <td>24.046600</td>\n",
       "      <td>25.953034</td>\n",
       "    </tr>\n",
       "  </tbody>\n",
       "</table>\n",
       "</div>"
      ],
      "text/plain": [
       "                       Obesity       Meat  Fruits - Excluding Wine  \\\n",
       "Confirmed Category                                                   \n",
       "Sangat Tidak Banyak   9.746875   8.945094                 0.654076   \n",
       "Tidak Banyak         19.378125   9.567672                 0.552212   \n",
       "Sedang               17.009375   8.294041                 0.504541   \n",
       "Cukup Banyak         22.228125  10.264081                 0.488122   \n",
       "Sangat Banyak        24.100000   9.777675                 0.551213   \n",
       "\n",
       "                     Fish, Seafood  Animal Products  Vegetal Products  \n",
       "Confirmed Category                                                     \n",
       "Sangat Tidak Banyak       0.898570        15.980406         34.019118  \n",
       "Tidak Banyak              0.868281        20.006928         29.993700  \n",
       "Sedang                    0.773247        19.504572         30.496775  \n",
       "Cukup Banyak              0.546644        24.330928         25.668950  \n",
       "Sangat Banyak             0.946981        24.046600         25.953034  "
      ]
     },
     "execution_count": 169,
     "metadata": {},
     "output_type": "execute_result"
    }
   ],
   "source": [
    "# Lakukan grouping pada kolom hasil binning ('Confirmed Category'), kemudian aggregate menggunakan fungsi mean\n",
    "cols = ['Obesity', 'Meat', 'Fruits - Excluding Wine', 'Fish, Seafood', 'Animal Products', 'Vegetal Products']\n",
    "\n",
    "# Code here\n",
    "groupby_confirmed = df_fat.groupby(df_fat['Confirmed Category'])[cols].mean()\n",
    "groupby_confirmed"
   ]
  },
  {
   "cell_type": "markdown",
   "metadata": {
    "colab_type": "text",
    "id": "uoPr2JSfwi5x"
   },
   "source": [
    "Expected output:\n",
    "![Expected Output:](https://drive.google.com/uc?id=1jw1uGaSHaKlY9ILghmTTlO9NqhQpq8Ad)"
   ]
  },
  {
   "cell_type": "code",
   "execution_count": 170,
   "metadata": {
    "colab": {},
    "colab_type": "code",
    "id": "ylCxhoZIhQ1J"
   },
   "outputs": [],
   "source": [
    "# Save DataFrame hasil binning, grouping, dan aggregating\n",
    "\n",
    "groupby_confirmed.to_csv('groupby_confirmed.csv')"
   ]
  },
  {
   "cell_type": "markdown",
   "metadata": {
    "colab_type": "text",
    "id": "QXt4J6-ki7yV"
   },
   "source": [
    "---"
   ]
  },
  {
   "cell_type": "markdown",
   "metadata": {
    "colab_type": "text",
    "id": "KYkVllUIi9gk"
   },
   "source": [
    "# Soal 5: Bar plot"
   ]
  },
  {
   "cell_type": "markdown",
   "metadata": {
    "colab_type": "text",
    "id": "oW_a_78Fjkbx"
   },
   "source": [
    "Gunakan data grouping pada soal sebelumnya untuk melakukan visualisasi. Jika kalian tidak dapat menyelesaikan soal tersebut, maka silahkan [download](https://drive.google.com/uc?export=download&id=1l5wFAKKShPQQvIe0rQ7C4Xog9tt_WDN0) data berikut yang merupakan hasil dari data grouping soal 4.\n",
    "\n",
    "Normalisasi data hasil grouping tersebut dengan rumus min-max normalisasi seperti rumus berikut ini. Kemudian buatlah grouping Visualization dengan berplot, visualisasikan data column 'Obesity', 'Fruits - Excluding Wine', 'Fish, Seafood', 'Animal Products' dan 'Vegetal Products'. "
   ]
  },
  {
   "cell_type": "markdown",
   "metadata": {
    "colab_type": "text",
    "id": "884pC4nnWZVg"
   },
   "source": [
    "\\begin{equation*}\n",
    " X_{norm} = \\dfrac{X - X_{min}}{X_{max} - X_{min}}\n",
    "\\end{equation*}\n"
   ]
  },
  {
   "cell_type": "code",
   "execution_count": 171,
   "metadata": {
    "colab": {},
    "colab_type": "code",
    "id": "-5tpx0PNlUQx"
   },
   "outputs": [
    {
     "data": {
      "text/html": [
       "<div>\n",
       "<style scoped>\n",
       "    .dataframe tbody tr th:only-of-type {\n",
       "        vertical-align: middle;\n",
       "    }\n",
       "\n",
       "    .dataframe tbody tr th {\n",
       "        vertical-align: top;\n",
       "    }\n",
       "\n",
       "    .dataframe thead th {\n",
       "        text-align: right;\n",
       "    }\n",
       "</style>\n",
       "<table border=\"1\" class=\"dataframe\">\n",
       "  <thead>\n",
       "    <tr style=\"text-align: right;\">\n",
       "      <th></th>\n",
       "      <th>Obesity</th>\n",
       "      <th>Meat</th>\n",
       "      <th>Fruits - Excluding Wine</th>\n",
       "      <th>Fish, Seafood</th>\n",
       "      <th>Animal Products</th>\n",
       "      <th>Vegetal Products</th>\n",
       "    </tr>\n",
       "    <tr>\n",
       "      <th>Confirmed Category</th>\n",
       "      <th></th>\n",
       "      <th></th>\n",
       "      <th></th>\n",
       "      <th></th>\n",
       "      <th></th>\n",
       "      <th></th>\n",
       "    </tr>\n",
       "  </thead>\n",
       "  <tbody>\n",
       "    <tr>\n",
       "      <th>Sangat Tidak Banyak</th>\n",
       "      <td>9.746875</td>\n",
       "      <td>8.945094</td>\n",
       "      <td>0.654076</td>\n",
       "      <td>0.898570</td>\n",
       "      <td>15.980406</td>\n",
       "      <td>34.019118</td>\n",
       "    </tr>\n",
       "    <tr>\n",
       "      <th>Tidak Banyak</th>\n",
       "      <td>19.378125</td>\n",
       "      <td>9.567672</td>\n",
       "      <td>0.552212</td>\n",
       "      <td>0.868281</td>\n",
       "      <td>20.006928</td>\n",
       "      <td>29.993700</td>\n",
       "    </tr>\n",
       "    <tr>\n",
       "      <th>Sedang</th>\n",
       "      <td>17.009375</td>\n",
       "      <td>8.294041</td>\n",
       "      <td>0.504541</td>\n",
       "      <td>0.773247</td>\n",
       "      <td>19.504572</td>\n",
       "      <td>30.496775</td>\n",
       "    </tr>\n",
       "    <tr>\n",
       "      <th>Cukup Banyak</th>\n",
       "      <td>22.228125</td>\n",
       "      <td>10.264081</td>\n",
       "      <td>0.488122</td>\n",
       "      <td>0.546644</td>\n",
       "      <td>24.330928</td>\n",
       "      <td>25.668950</td>\n",
       "    </tr>\n",
       "    <tr>\n",
       "      <th>Sangat Banyak</th>\n",
       "      <td>24.100000</td>\n",
       "      <td>9.777675</td>\n",
       "      <td>0.551213</td>\n",
       "      <td>0.946981</td>\n",
       "      <td>24.046600</td>\n",
       "      <td>25.953034</td>\n",
       "    </tr>\n",
       "  </tbody>\n",
       "</table>\n",
       "</div>"
      ],
      "text/plain": [
       "                       Obesity       Meat  Fruits - Excluding Wine  \\\n",
       "Confirmed Category                                                   \n",
       "Sangat Tidak Banyak   9.746875   8.945094                 0.654076   \n",
       "Tidak Banyak         19.378125   9.567672                 0.552212   \n",
       "Sedang               17.009375   8.294041                 0.504541   \n",
       "Cukup Banyak         22.228125  10.264081                 0.488122   \n",
       "Sangat Banyak        24.100000   9.777675                 0.551213   \n",
       "\n",
       "                     Fish, Seafood  Animal Products  Vegetal Products  \n",
       "Confirmed Category                                                     \n",
       "Sangat Tidak Banyak       0.898570        15.980406         34.019118  \n",
       "Tidak Banyak              0.868281        20.006928         29.993700  \n",
       "Sedang                    0.773247        19.504572         30.496775  \n",
       "Cukup Banyak              0.546644        24.330928         25.668950  \n",
       "Sangat Banyak             0.946981        24.046600         25.953034  "
      ]
     },
     "metadata": {},
     "output_type": "display_data"
    }
   ],
   "source": [
    "# Gunakan DataFrame hasil grouping soal 4 atau read data hasil download jika tidak dapat mengerjakan soal 4\n",
    "df = groupby_confirmed\n",
    "\n",
    "# Atau\n",
    "\n",
    "df = pd.read_csv('groupby_confirmed.csv').set_index('Confirmed Category')\n",
    "\n",
    "# Lihat df dan pastikan sesuai dengan expected output pada soal 4\n",
    "display(df)"
   ]
  },
  {
   "cell_type": "code",
   "execution_count": null,
   "metadata": {
    "colab": {},
    "colab_type": "code",
    "id": "nokTOpibmhD0"
   },
   "outputs": [],
   "source": [
    "# Lakukan normalisasi pada DataFrame df\n",
    "# Code here\n",
    "df_norm = \n",
    "\n",
    "# Lihat df_norm dan pastikan sesuai dengan expected output\n",
    "display(df_norm)"
   ]
  },
  {
   "cell_type": "markdown",
   "metadata": {
    "colab_type": "text",
    "id": "37rjPjbanRNY"
   },
   "source": [
    "Expected output:\n",
    "![Expected Output:](https://drive.google.com/uc?id=1BFzcOFHbZMnw0wqbwl8K6IEiVmurqG84)"
   ]
  },
  {
   "cell_type": "code",
   "execution_count": null,
   "metadata": {
    "colab": {},
    "colab_type": "code",
    "id": "lMzOW9t7nU-I"
   },
   "outputs": [],
   "source": [
    "# Buat bar plot dari df_norm sesuai dengan expected output\n",
    "# Code here\n",
    "\n",
    "\n",
    "# Untuk menambahkan label di atas barplot lihat https://matplotlib.org/3.1.1/gallery/lines_bars_and_markers/barchart.html\n",
    "\n",
    "# fig.legend()\n",
    "# plt.show()"
   ]
  },
  {
   "cell_type": "markdown",
   "metadata": {
    "colab_type": "text",
    "id": "FIul1KSeoMsh"
   },
   "source": [
    "Expected output:\n",
    "![Expected Output:](https://drive.google.com/uc?id=11x5OMAB8mbZurD0qntxcwOcWYCQSegy8)\n"
   ]
  },
  {
   "cell_type": "markdown",
   "metadata": {
    "colab_type": "text",
    "id": "KZJq0YxNp7bM"
   },
   "source": [
    "---"
   ]
  },
  {
   "cell_type": "markdown",
   "metadata": {
    "colab_type": "text",
    "id": "LoJ9IXHBp890"
   },
   "source": [
    "# Soal 6: Scatter plot\n"
   ]
  },
  {
   "cell_type": "markdown",
   "metadata": {
    "colab_type": "text",
    "id": "5sQPxjyIrrkM"
   },
   "source": [
    "Buatlah visualisasi scatter plot dari df_food antara Supply Sayuran ('Vegetal Products') dan persentase terkonfirmasi ('Confirmed') COVID-19 sesuai expected output dengan ketentuan berikut:\n",
    "\n",
    "\n",
    "* Gunakan kolom persentase kematian ('Death') sebagai ukuran pointnya kalikan suatu angka yang cukup besar agar terlihat.\n",
    "    \n",
    "* Gunakan kolom persentase produk hewani ('Animal Products') sebagai warna point, berikan colormap 'viridis'."
   ]
  },
  {
   "cell_type": "code",
   "execution_count": null,
   "metadata": {
    "colab": {},
    "colab_type": "code",
    "id": "8-nxlX2zp8Lw"
   },
   "outputs": [],
   "source": [
    "fig, ax = plt.subplots(figsize=(18, 12))\n",
    "\n",
    "# Code here\n",
    "\n",
    "plt.show()"
   ]
  },
  {
   "cell_type": "markdown",
   "metadata": {
    "colab_type": "text",
    "id": "aBr40jb0uXSg"
   },
   "source": [
    "Expected output:\n",
    "![Expected Output:](https://drive.google.com/uc?id=1wJh3tfkPbrkf3_F73RW0kABBt_NO8q53)"
   ]
  }
 ],
 "metadata": {
  "colab": {
   "authorship_tag": "ABX9TyOIzMCQPPRhLt9bnYEJxo5m",
   "collapsed_sections": [],
   "name": "Quiz Pekan - 3.ipynb",
   "provenance": []
  },
  "kernelspec": {
   "display_name": "Python 3",
   "language": "python",
   "name": "python3"
  },
  "language_info": {
   "codemirror_mode": {
    "name": "ipython",
    "version": 3
   },
   "file_extension": ".py",
   "mimetype": "text/x-python",
   "name": "python",
   "nbconvert_exporter": "python",
   "pygments_lexer": "ipython3",
   "version": "3.8.3"
  }
 },
 "nbformat": 4,
 "nbformat_minor": 1
}
